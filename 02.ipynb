{
 "cells": [
  {
   "cell_type": "code",
   "execution_count": 4,
   "metadata": {},
   "outputs": [],
   "source": [
    "from bs4 import BeautifulSoup\n",
    "import requests"
   ]
  },
  {
   "cell_type": "code",
   "execution_count": 5,
   "metadata": {},
   "outputs": [],
   "source": [
    "url = \"https://www.w3school.com/xml/note.xml\""
   ]
  },
  {
   "cell_type": "code",
   "execution_count": 6,
   "metadata": {},
   "outputs": [],
   "source": [
    "xml = requests.get(url)"
   ]
  },
  {
   "cell_type": "code",
   "execution_count": 7,
   "metadata": {},
   "outputs": [
    {
     "data": {
      "text/plain": [
       "b'<!DOCTYPE html>\\n<html lang=\"en-us\" prefix=\"content: http://purl.org/rss/1.0/modules/content/ dc: http://purl.org/dc/terms/ foaf: http://xmlns.com/foaf/0.1/ og: http://ogp.me/ns# rdfs: http://www.w3.org/2000/01/rdf-schema# sioc: http://rdfs.org/sioc/ns# sioct: http://rdfs.org/sioc/types# skos: http://www.w3.org/2004/02/skos/core# xsd: http://www.w3.org/2001/XMLSchema#\">\\n\\n<head>\\n    <meta http-equiv=\"Content-Type\" content=\"text/html; charset=UTF-8\">\\n    <style type=\"text/css\">\\n        @charset \"UTF-8\";\\n        [ng\\\\:cloak],\\n        [ng-cloak],\\n        [data-ng-cloak],\\n        [x-ng-cloak],\\n        .ng-cloak,\\n        .x-ng-cloak,\\n        .ng-hide:not(.ng-hide-animate) {\\n            display: none !important;\\n        }\\n\\n        ng\\\\:form {\\n            display: block;\\n        }\\n\\n        .ng-animate-shim {\\n            visibility: hidden;\\n        }\\n\\n        .ng-anchor {\\n            position: absolute;\\n        }\\n    </style>\\n    <meta http-equiv=\"X-UA-Compatible\" content=\"IE=edge\">\\n    <meta name=\"viewport\" content=\"width=device-width, initial-scale=1\">\\n    <title>Oops, something lost</title>\\n    <meta name=\"description\" content=\"Oops, looks like the page is lost. Start your website on the cheap.\">\\n    <link media=\"all\" rel=\"stylesheet\" href=\"/htdocs_error/style.css\">\\n    <link rel=\"stylesheet\" href=\"https://maxcdn.bootstrapcdn.com/bootstrap/3.3.7/css/bootstrap.min.css\">\\n    <link href=\"https://fonts.googleapis.com/css?family=Open+Sans:300,300i,400,400i,600,600i,700,700i,800,800i\" rel=\"stylesheet\">\\n\\n    <script>\\n        (function(i,s,o,g,r,a,m){i[\\'GoogleAnalyticsObject\\']=r;i[r]=i[r]||function(){\\n                (i[r].q=i[r].q||[]).push(arguments)},i[r].l=1*new Date();a=s.createElement(o),\\n            m=s.getElementsByTagName(o)[0];a.async=1;a.src=g;m.parentNode.insertBefore(a,m)\\n        })(window,document,\\'script\\',\\'https://www.google-analytics.com/analytics.js\\',\\'ga\\');\\n\\n        ga(\\'create\\', \\'UA-26575989-46\\', \\'auto\\');\\n        ga(\\'send\\', \\'pageview\\');\\n\\n    </script>\\n</head>\\n\\n<body>\\n\\n    <div class=\"error\" id=\"error\">\\n            <div class=\"container\">\\n                <div class=\"content centered\"><img style=\"width:500px;\" src=\"/htdocs_error/something-lost.png\">\\n                    <h1>Oops, looks like the page is lost.</h1>\\n                    <p style=\"font-size:22px;\" class=\"sub-header text-block-narrow\">This is not a fault, just an accident that was not intentional.</p>\\n                </div>\\n        </div>\\n</body>\\n\\n</html>\\n'"
      ]
     },
     "execution_count": 7,
     "metadata": {},
     "output_type": "execute_result"
    }
   ],
   "source": [
    "xml.content"
   ]
  },
  {
   "cell_type": "code",
   "execution_count": 14,
   "metadata": {},
   "outputs": [
    {
     "name": "stdout",
     "output_type": "stream",
     "text": [
      "<?xml version=\"1.0\" encoding=\"utf-8\"?>\n",
      "<!DOCTYPE html>\n",
      "<html lang=\"en-us\" prefix=\"content: http://purl.org/rss/1.0/modules/content/ dc: http://purl.org/dc/terms/ foaf: http://xmlns.com/foaf/0.1/ og: http://ogp.me/ns# rdfs: http://www.w3.org/2000/01/rdf-schema# sioc: http://rdfs.org/sioc/ns# sioct: http://rdfs.org/sioc/types# skos: http://www.w3.org/2004/02/skos/core# xsd: http://www.w3.org/2001/XMLSchema#\">\n",
      "<head>\n",
      "<meta content=\"text/html; charset=UTF-8\" http-equiv=\"Content-Type\">\n",
      "<style type=\"text/css\">\n",
      "        @charset \"UTF-8\";\n",
      "        [ng\\:cloak],\n",
      "        [ng-cloak],\n",
      "        [data-ng-cloak],\n",
      "        [x-ng-cloak],\n",
      "        .ng-cloak,\n",
      "        .x-ng-cloak,\n",
      "        .ng-hide:not(.ng-hide-animate) {\n",
      "            display: none !important;\n",
      "        }\n",
      "\n",
      "        ng\\:form {\n",
      "            display: block;\n",
      "        }\n",
      "\n",
      "        .ng-animate-shim {\n",
      "            visibility: hidden;\n",
      "        }\n",
      "\n",
      "        .ng-anchor {\n",
      "            position: absolute;\n",
      "        }\n",
      "    </style>\n",
      "<meta content=\"IE=edge\" http-equiv=\"X-UA-Compatible\">\n",
      "<meta content=\"width=device-width, initial-scale=1\" name=\"viewport\">\n",
      "<title>Oops, something lost</title>\n",
      "<meta content=\"Oops, looks like the page is lost. Start your website on the cheap.\" name=\"description\">\n",
      "<link href=\"/htdocs_error/style.css\" media=\"all\" rel=\"stylesheet\">\n",
      "<link href=\"https://maxcdn.bootstrapcdn.com/bootstrap/3.3.7/css/bootstrap.min.css\" rel=\"stylesheet\">\n",
      "<link href=\"https://fonts.googleapis.com/css?family=Open+Sans:300,300i,400,400i,600,600i,700,700i,800,800i\" rel=\"stylesheet\">\n",
      "<script>\n",
      "        (function(i,s,o,g,r,a,m){i['GoogleAnalyticsObject']=r;i[r]=i[r]||function(){\n",
      "                (i[r].q=i[r].q||[]).push(arguments)},i[r].l=1*new Date();a=s.createElement(o),\n",
      "            m=s.getElementsByTagName(o)[0];a.async=1;a.src=g;m.parentNode.insertBefore(a,m)\n",
      "        })(window,document,'script','https://www.google-analytics.com/analytics.js','ga');\n",
      "\n",
      "        ga('create', 'UA-26575989-46', 'auto');\n",
      "        ga('send', 'pageview');\n",
      "\n",
      "    </script>\n",
      "</link>\n",
      "<body>\n",
      "<div class=\"error\" id=\"error\">\n",
      "<div class=\"container\">\n",
      "<div class=\"content centered\"><img src=\"/htdocs_error/something-lost.png\" style=\"width:500px;\">\n",
      "<h1>Oops, looks like the page is lost.</h1>\n",
      "<p class=\"sub-header text-block-narrow\" style=\"font-size:22px;\">This is not a fault, just an accident that was not intentional.</p>\n",
      "</img>\n",
      "</div>\n",
      "</div>\n",
      "</div></body></link></link></meta></meta></meta></meta></head></html>\n"
     ]
    }
   ],
   "source": [
    "soup = BeautifulSoup(xml.content,'xml')\n",
    "print(soup)"
   ]
  },
  {
   "cell_type": "code",
   "execution_count": 20,
   "metadata": {},
   "outputs": [
    {
     "name": "stdout",
     "output_type": "stream",
     "text": [
      "<head>\n",
      "<meta content=\"text/html; charset=UTF-8\" http-equiv=\"Content-Type\">\n",
      "<style type=\"text/css\">\n",
      "        @charset \"UTF-8\";\n",
      "        [ng\\:cloak],\n",
      "        [ng-cloak],\n",
      "        [data-ng-cloak],\n",
      "        [x-ng-cloak],\n",
      "        .ng-cloak,\n",
      "        .x-ng-cloak,\n",
      "        .ng-hide:not(.ng-hide-animate) {\n",
      "            display: none !important;\n",
      "        }\n",
      "\n",
      "        ng\\:form {\n",
      "            display: block;\n",
      "        }\n",
      "\n",
      "        .ng-animate-shim {\n",
      "            visibility: hidden;\n",
      "        }\n",
      "\n",
      "        .ng-anchor {\n",
      "            position: absolute;\n",
      "        }\n",
      "    </style>\n",
      "<meta content=\"IE=edge\" http-equiv=\"X-UA-Compatible\">\n",
      "<meta content=\"width=device-width, initial-scale=1\" name=\"viewport\">\n",
      "<title>Oops, something lost</title>\n",
      "<meta content=\"Oops, looks like the page is lost. Start your website on the cheap.\" name=\"description\">\n",
      "<link href=\"/htdocs_error/style.css\" media=\"all\" rel=\"stylesheet\">\n",
      "<link href=\"https://maxcdn.bootstrapcdn.com/bootstrap/3.3.7/css/bootstrap.min.css\" rel=\"stylesheet\">\n",
      "<link href=\"https://fonts.googleapis.com/css?family=Open+Sans:300,300i,400,400i,600,600i,700,700i,800,800i\" rel=\"stylesheet\">\n",
      "<script>\n",
      "        (function(i,s,o,g,r,a,m){i['GoogleAnalyticsObject']=r;i[r]=i[r]||function(){\n",
      "                (i[r].q=i[r].q||[]).push(arguments)},i[r].l=1*new Date();a=s.createElement(o),\n",
      "            m=s.getElementsByTagName(o)[0];a.async=1;a.src=g;m.parentNode.insertBefore(a,m)\n",
      "        })(window,document,'script','https://www.google-analytics.com/analytics.js','ga');\n",
      "\n",
      "        ga('create', 'UA-26575989-46', 'auto');\n",
      "        ga('send', 'pageview');\n",
      "\n",
      "    </script>\n",
      "</link>\n",
      "<body>\n",
      "<div class=\"error\" id=\"error\">\n",
      "<div class=\"container\">\n",
      "<div class=\"content centered\"><img src=\"/htdocs_error/something-lost.png\" style=\"width:500px;\">\n",
      "<h1>Oops, looks like the page is lost.</h1>\n",
      "<p class=\"sub-header text-block-narrow\" style=\"font-size:22px;\">This is not a fault, just an accident that was not intentional.</p>\n",
      "</img>\n",
      "</div>\n",
      "</div>\n",
      "</div></body></link></link></meta></meta></meta></meta></head>\n"
     ]
    }
   ],
   "source": [
    "xml_tag = soup.find('head')\n",
    "print(xml_tag)\n"
   ]
  },
  {
   "cell_type": "code",
   "execution_count": 22,
   "metadata": {},
   "outputs": [
    {
     "name": "stdout",
     "output_type": "stream",
     "text": [
      "\n",
      "\n",
      "\n",
      "        @charset \"UTF-8\";\n",
      "        [ng\\:cloak],\n",
      "        [ng-cloak],\n",
      "        [data-ng-cloak],\n",
      "        [x-ng-cloak],\n",
      "        .ng-cloak,\n",
      "        .x-ng-cloak,\n",
      "        .ng-hide:not(.ng-hide-animate) {\n",
      "            display: none !important;\n",
      "        }\n",
      "\n",
      "        ng\\:form {\n",
      "            display: block;\n",
      "        }\n",
      "\n",
      "        .ng-animate-shim {\n",
      "            visibility: hidden;\n",
      "        }\n",
      "\n",
      "        .ng-anchor {\n",
      "            position: absolute;\n",
      "        }\n",
      "    \n",
      "\n",
      "\n",
      "Oops, something lost\n",
      "\n",
      "\n",
      "\n",
      "\n",
      "\n",
      "        (function(i,s,o,g,r,a,m){i['GoogleAnalyticsObject']=r;i[r]=i[r]||function(){\n",
      "                (i[r].q=i[r].q||[]).push(arguments)},i[r].l=1*new Date();a=s.createElement(o),\n",
      "            m=s.getElementsByTagName(o)[0];a.async=1;a.src=g;m.parentNode.insertBefore(a,m)\n",
      "        })(window,document,'script','https://www.google-analytics.com/analytics.js','ga');\n",
      "\n",
      "        ga('create', 'UA-26575989-46', 'auto');\n",
      "        ga('send', 'pageview');\n",
      "\n",
      "    \n",
      "\n",
      "\n",
      "\n",
      "\n",
      "\n",
      "Oops, looks like the page is lost.\n",
      "This is not a fault, just an accident that was not intentional.\n",
      "\n",
      "\n",
      "\n",
      "\n"
     ]
    }
   ],
   "source": [
    "print(xml_tag.text)"
   ]
  },
  {
   "cell_type": "code",
   "execution_count": null,
   "metadata": {},
   "outputs": [],
   "source": []
  }
 ],
 "metadata": {
  "kernelspec": {
   "display_name": "tfodj",
   "language": "python",
   "name": "tfodj"
  },
  "language_info": {
   "codemirror_mode": {
    "name": "ipython",
    "version": 3
   },
   "file_extension": ".py",
   "mimetype": "text/x-python",
   "name": "python",
   "nbconvert_exporter": "python",
   "pygments_lexer": "ipython3",
   "version": "3.11.7"
  }
 },
 "nbformat": 4,
 "nbformat_minor": 2
}
