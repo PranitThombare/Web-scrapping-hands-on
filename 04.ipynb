{
 "cells": [
  {
   "cell_type": "code",
   "execution_count": 2,
   "metadata": {},
   "outputs": [],
   "source": [
    "from bs4 import BeautifulSoup\n",
    "import requests"
   ]
  },
  {
   "cell_type": "code",
   "execution_count": 3,
   "metadata": {},
   "outputs": [],
   "source": [
    "url = \"https://www.imdb.com/chart/top/\""
   ]
  },
  {
   "cell_type": "code",
   "execution_count": 7,
   "metadata": {},
   "outputs": [],
   "source": [
    "Headers = {'User-Agent' : 'Mozilla/5.0 (ipad; CPU os12_2 like Mac os X) ApplewebKit/605.1.15 (KHTML , like Gecko) Mobile/15E148'}"
   ]
  },
  {
   "cell_type": "code",
   "execution_count": 8,
   "metadata": {},
   "outputs": [
    {
     "data": {
      "text/plain": [
       "<Response [200]>"
      ]
     },
     "execution_count": 8,
     "metadata": {},
     "output_type": "execute_result"
    }
   ],
   "source": [
    "page = requests.get(url, headers=Headers)\n",
    "page"
   ]
  },
  {
   "cell_type": "code",
   "execution_count": 9,
   "metadata": {},
   "outputs": [],
   "source": [
    "soup = BeautifulSoup(page.content, \"html.parser\")"
   ]
  },
  {
   "cell_type": "code",
   "execution_count": 19,
   "metadata": {},
   "outputs": [
    {
     "name": "stdout",
     "output_type": "stream",
     "text": [
      "IMDb Charts\n",
      "1. The Shawshank Redemption\n",
      "2. The Godfather\n",
      "3. The Dark Knight\n",
      "4. The Godfather: Part II\n",
      "5. 12 Angry Men\n",
      "6. Schindler's List\n",
      "7. The Lord of the Rings: The Return of the King\n",
      "8. Pulp Fiction\n",
      "9. The Lord of the Rings: The Fellowship of the Ring\n",
      "10. Il Buono, Il Brutto, Il Cattivo\n",
      "11. Forrest Gump\n",
      "12. The Lord of the Rings: The Two Towers\n",
      "13. Fight Club\n",
      "14. Inception\n",
      "15. Star Wars: Episode V - The Empire Strikes Back\n",
      "16. The Matrix\n",
      "17. GoodFellas\n",
      "18. One Flew Over the Cuckoo's Nest\n",
      "19. Interstellar\n",
      "20. Se7en\n",
      "21. It's a Wonderful Life\n",
      "22. Shichinin No Samurai\n",
      "23. The Silence of the Lambs\n",
      "24. Saving Private Ryan\n",
      "25. City of God\n",
      "Recently viewed\n"
     ]
    }
   ],
   "source": [
    "scraped_movies = soup.find_all('h3', class_ = 'ipc-title__text')\n",
    "for i in scraped_movies:\n",
    "    print(i.text)"
   ]
  },
  {
   "cell_type": "code",
   "execution_count": null,
   "metadata": {},
   "outputs": [],
   "source": []
  },
  {
   "cell_type": "code",
   "execution_count": null,
   "metadata": {},
   "outputs": [],
   "source": []
  }
 ],
 "metadata": {
  "kernelspec": {
   "display_name": "tfodj",
   "language": "python",
   "name": "tfodj"
  },
  "language_info": {
   "codemirror_mode": {
    "name": "ipython",
    "version": 3
   },
   "file_extension": ".py",
   "mimetype": "text/x-python",
   "name": "python",
   "nbconvert_exporter": "python",
   "pygments_lexer": "ipython3",
   "version": "3.11.7"
  }
 },
 "nbformat": 4,
 "nbformat_minor": 2
}
