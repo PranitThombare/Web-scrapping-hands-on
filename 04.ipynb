{
 "cells": [
  {
   "cell_type": "code",
   "execution_count": 30,
   "metadata": {},
   "outputs": [],
   "source": [
    "from bs4 import BeautifulSoup\n",
    "import requests"
   ]
  },
  {
   "cell_type": "code",
   "execution_count": 31,
   "metadata": {},
   "outputs": [],
   "source": [
    "url = \"https://www.imdb.com/chart/top/\""
   ]
  },
  {
   "cell_type": "code",
   "execution_count": 32,
   "metadata": {},
   "outputs": [],
   "source": [
    "Headers = {'User-Agent' : 'Mozilla/5.0 (ipad; CPU os12_2 like Mac os X) ApplewebKit/605.1.15 (KHTML , like Gecko) Mobile/15E148'}"
   ]
  },
  {
   "cell_type": "code",
   "execution_count": 33,
   "metadata": {},
   "outputs": [
    {
     "data": {
      "text/plain": [
       "<Response [200]>"
      ]
     },
     "execution_count": 33,
     "metadata": {},
     "output_type": "execute_result"
    }
   ],
   "source": [
    "page = requests.get(url, headers=Headers)\n",
    "page"
   ]
  },
  {
   "cell_type": "code",
   "execution_count": 34,
   "metadata": {},
   "outputs": [],
   "source": [
    "soup = BeautifulSoup(page.content, \"html.parser\")"
   ]
  },
  {
   "cell_type": "code",
   "execution_count": 35,
   "metadata": {},
   "outputs": [],
   "source": [
    "# movies = soup.select('td.titleColumn a')\n",
    "\n",
    "# # Extract and print the top 250 movie names\n",
    "# top_250_movies = [movie.get_text() for movie in movies]\n",
    "\n",
    "# # Display the movie titles\n",
    "# for i, movie in enumerate(top_250_movies, start=1):\n",
    "#     print(f\"{i}. {movie}\")"
   ]
  },
  {
   "cell_type": "code",
   "execution_count": 37,
   "metadata": {},
   "outputs": [],
   "source": [
    "scraped_movies = soup.find_all('h3',class_  =\"ipc-title__text\")\n"
   ]
  },
  {
   "cell_type": "code",
   "execution_count": 38,
   "metadata": {},
   "outputs": [
    {
     "name": "stdout",
     "output_type": "stream",
     "text": [
      "IMDb Charts\n",
      "1. The Shawshank Redemption\n",
      "2. The Godfather\n",
      "3. The Dark Knight\n",
      "4. The Godfather: Part II\n",
      "5. 12 Angry Men\n",
      "6. Schindler's List\n",
      "7. The Lord of the Rings: The Return of the King\n",
      "8. Pulp Fiction\n",
      "9. The Lord of the Rings: The Fellowship of the Ring\n",
      "10. Il Buono, Il Brutto, Il Cattivo\n",
      "11. Forrest Gump\n",
      "12. The Lord of the Rings: The Two Towers\n",
      "13. Fight Club\n",
      "14. Inception\n",
      "15. Star Wars: Episode V - The Empire Strikes Back\n",
      "16. The Matrix\n",
      "17. GoodFellas\n",
      "18. One Flew Over the Cuckoo's Nest\n",
      "19. Interstellar\n",
      "20. Se7en\n",
      "21. It's a Wonderful Life\n",
      "22. Shichinin No Samurai\n",
      "23. The Silence of the Lambs\n",
      "24. Saving Private Ryan\n",
      "25. City of God\n",
      "Recently viewed\n"
     ]
    }
   ],
   "source": [
    "for i in scraped_movies:\n",
    "    print(i.text)"
   ]
  },
  {
   "cell_type": "code",
   "execution_count": 40,
   "metadata": {},
   "outputs": [
    {
     "name": "stdout",
     "output_type": "stream",
     "text": [
      "9.3\n",
      "9.2\n",
      "9.0\n",
      "9.0\n",
      "9.0\n",
      "9.0\n",
      "9.0\n",
      "8.9\n",
      "8.9\n",
      "8.8\n",
      "8.8\n",
      "8.8\n",
      "8.8\n",
      "8.8\n",
      "8.7\n",
      "8.7\n",
      "8.7\n",
      "8.7\n",
      "8.7\n",
      "8.6\n",
      "8.6\n",
      "8.6\n",
      "8.6\n",
      "8.6\n",
      "8.6\n"
     ]
    }
   ],
   "source": [
    "scraped_rating = soup.find_all('span',class_  =\"ipc-rating-star--rating\")\n",
    "for i in scraped_rating:\n",
    "    print(i.text)\n"
   ]
  },
  {
   "cell_type": "code",
   "execution_count": 45,
   "metadata": {},
   "outputs": [
    {
     "data": {
      "text/plain": [
       "27"
      ]
     },
     "execution_count": 45,
     "metadata": {},
     "output_type": "execute_result"
    }
   ],
   "source": [
    "len(scraped_movies)"
   ]
  },
  {
   "cell_type": "code",
   "execution_count": 47,
   "metadata": {},
   "outputs": [],
   "source": [
    "scraped_movies = scraped_movies[1:-1]"
   ]
  },
  {
   "cell_type": "code",
   "execution_count": 48,
   "metadata": {},
   "outputs": [
    {
     "data": {
      "text/plain": [
       "25"
      ]
     },
     "execution_count": 48,
     "metadata": {},
     "output_type": "execute_result"
    }
   ],
   "source": [
    "len(scraped_movies)"
   ]
  },
  {
   "cell_type": "code",
   "execution_count": 51,
   "metadata": {},
   "outputs": [
    {
     "name": "stdout",
     "output_type": "stream",
     "text": [
      "1. The Shawshank Redemption - 9.3\n",
      "2. The Godfather - 9.2\n",
      "3. The Dark Knight - 9.0\n",
      "4. The Godfather: Part II - 9.0\n",
      "5. 12 Angry Men - 9.0\n",
      "6. Schindler's List - 9.0\n",
      "7. The Lord of the Rings: The Return of the King - 9.0\n",
      "8. Pulp Fiction - 8.9\n",
      "9. The Lord of the Rings: The Fellowship of the Ring - 8.9\n",
      "10. Il Buono, Il Brutto, Il Cattivo - 8.8\n",
      "11. Forrest Gump - 8.8\n",
      "12. The Lord of the Rings: The Two Towers - 8.8\n",
      "13. Fight Club - 8.8\n",
      "14. Inception - 8.8\n",
      "15. Star Wars: Episode V - The Empire Strikes Back - 8.7\n",
      "16. The Matrix - 8.7\n",
      "17. GoodFellas - 8.7\n",
      "18. One Flew Over the Cuckoo's Nest - 8.7\n",
      "19. Interstellar - 8.7\n",
      "20. Se7en - 8.6\n",
      "21. It's a Wonderful Life - 8.6\n",
      "22. Shichinin No Samurai - 8.6\n",
      "23. The Silence of the Lambs - 8.6\n",
      "24. Saving Private Ryan - 8.6\n",
      "25. City of God - 8.6\n"
     ]
    }
   ],
   "source": [
    "for i in range(len(scraped_movies)):\n",
    "    print(scraped_movies[i].text, '-',scraped_rating[i].text)"
   ]
  },
  {
   "cell_type": "code",
   "execution_count": 54,
   "metadata": {},
   "outputs": [],
   "source": [
    "import pandas as pd\n",
    "import numpy as np\n"
   ]
  },
  {
   "cell_type": "code",
   "execution_count": 55,
   "metadata": {},
   "outputs": [],
   "source": [
    "df = pd.DataFrame({\n",
    "    'Movie': scraped_movies,\n",
    "    'Rating': scraped_rating\n",
    "})"
   ]
  },
  {
   "cell_type": "code",
   "execution_count": 56,
   "metadata": {},
   "outputs": [
    {
     "data": {
      "text/html": [
       "<div>\n",
       "<style scoped>\n",
       "    .dataframe tbody tr th:only-of-type {\n",
       "        vertical-align: middle;\n",
       "    }\n",
       "\n",
       "    .dataframe tbody tr th {\n",
       "        vertical-align: top;\n",
       "    }\n",
       "\n",
       "    .dataframe thead th {\n",
       "        text-align: right;\n",
       "    }\n",
       "</style>\n",
       "<table border=\"1\" class=\"dataframe\">\n",
       "  <thead>\n",
       "    <tr style=\"text-align: right;\">\n",
       "      <th></th>\n",
       "      <th>Movie</th>\n",
       "      <th>Rating</th>\n",
       "    </tr>\n",
       "  </thead>\n",
       "  <tbody>\n",
       "    <tr>\n",
       "      <th>0</th>\n",
       "      <td>[1. The Shawshank Redemption]</td>\n",
       "      <td>[9.3]</td>\n",
       "    </tr>\n",
       "    <tr>\n",
       "      <th>1</th>\n",
       "      <td>[2. The Godfather]</td>\n",
       "      <td>[9.2]</td>\n",
       "    </tr>\n",
       "    <tr>\n",
       "      <th>2</th>\n",
       "      <td>[3. The Dark Knight]</td>\n",
       "      <td>[9.0]</td>\n",
       "    </tr>\n",
       "    <tr>\n",
       "      <th>3</th>\n",
       "      <td>[4. The Godfather: Part II]</td>\n",
       "      <td>[9.0]</td>\n",
       "    </tr>\n",
       "    <tr>\n",
       "      <th>4</th>\n",
       "      <td>[5. 12 Angry Men]</td>\n",
       "      <td>[9.0]</td>\n",
       "    </tr>\n",
       "  </tbody>\n",
       "</table>\n",
       "</div>"
      ],
      "text/plain": [
       "                           Movie Rating\n",
       "0  [1. The Shawshank Redemption]  [9.3]\n",
       "1             [2. The Godfather]  [9.2]\n",
       "2           [3. The Dark Knight]  [9.0]\n",
       "3    [4. The Godfather: Part II]  [9.0]\n",
       "4              [5. 12 Angry Men]  [9.0]"
      ]
     },
     "execution_count": 56,
     "metadata": {},
     "output_type": "execute_result"
    }
   ],
   "source": [
    "df.head()"
   ]
  },
  {
   "cell_type": "code",
   "execution_count": null,
   "metadata": {},
   "outputs": [],
   "source": []
  }
 ],
 "metadata": {
  "kernelspec": {
   "display_name": "tfodj",
   "language": "python",
   "name": "tfodj"
  },
  "language_info": {
   "codemirror_mode": {
    "name": "ipython",
    "version": 3
   },
   "file_extension": ".py",
   "mimetype": "text/x-python",
   "name": "python",
   "nbconvert_exporter": "python",
   "pygments_lexer": "ipython3",
   "version": "3.11.7"
  }
 },
 "nbformat": 4,
 "nbformat_minor": 2
}
